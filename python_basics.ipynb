{
  "nbformat": 4,
  "nbformat_minor": 0,
  "metadata": {
    "colab": {
      "provenance": [],
      "include_colab_link": true
    },
    "kernelspec": {
      "name": "python3",
      "display_name": "Python 3"
    },
    "language_info": {
      "name": "python"
    }
  },
  "cells": [
    {
      "cell_type": "markdown",
      "metadata": {
        "id": "view-in-github",
        "colab_type": "text"
      },
      "source": [
        "<a href=\"https://colab.research.google.com/github/aryanKamat007/Python-Machine-learning/blob/main/python_basics.ipynb\" target=\"_parent\"><img src=\"https://colab.research.google.com/assets/colab-badge.svg\" alt=\"Open In Colab\"/></a>"
      ]
    },
    {
      "cell_type": "code",
      "execution_count": null,
      "metadata": {
        "id": "_A4J9TjwUWRO"
      },
      "outputs": [],
      "source": []
    },
    {
      "cell_type": "markdown",
      "source": [
        "# **My first program**"
      ],
      "metadata": {
        "id": "kadGJ3GxUZmL"
      }
    },
    {
      "cell_type": "code",
      "source": [
        "print(\"Hello I am Shawn\")"
      ],
      "metadata": {
        "colab": {
          "base_uri": "https://localhost:8080/"
        },
        "id": "fQoJ6J6AUeIl",
        "outputId": "7807744b-914f-44d4-ab57-d311bd184891"
      },
      "execution_count": null,
      "outputs": [
        {
          "output_type": "stream",
          "name": "stdout",
          "text": [
            "Hello I am Shawn\n"
          ]
        }
      ]
    },
    {
      "cell_type": "markdown",
      "source": [
        "# ***Variable Declaration***"
      ],
      "metadata": {
        "id": "gNkcWF1OV9rV"
      }
    },
    {
      "cell_type": "code",
      "source": [
        "a=4\n",
        "b=0\n",
        "sum=a+b\n",
        "print(sum)"
      ],
      "metadata": {
        "colab": {
          "base_uri": "https://localhost:8080/"
        },
        "id": "hl7QkElfWYDi",
        "outputId": "f4b4e993-6770-4dfb-d5c6-f3c9f9e2724a"
      },
      "execution_count": null,
      "outputs": [
        {
          "output_type": "stream",
          "name": "stdout",
          "text": [
            "4\n"
          ]
        }
      ]
    },
    {
      "cell_type": "code",
      "source": [
        "a=4\n",
        "b=a**0.5\n",
        "print(b)\n"
      ],
      "metadata": {
        "colab": {
          "base_uri": "https://localhost:8080/"
        },
        "id": "V8KEYb1EWfQ2",
        "outputId": "161727a9-681f-446d-deef-6ecc79d1b744"
      },
      "execution_count": null,
      "outputs": [
        {
          "output_type": "stream",
          "name": "stdout",
          "text": [
            "2.0\n"
          ]
        }
      ]
    },
    {
      "cell_type": "code",
      "source": [],
      "metadata": {
        "id": "1T2_OGhKWvvg"
      },
      "execution_count": null,
      "outputs": []
    },
    {
      "cell_type": "markdown",
      "source": [
        "# **Data types**"
      ],
      "metadata": {
        "id": "poph4hSFa__K"
      }
    },
    {
      "cell_type": "code",
      "source": [
        "name=\"Aryan\"\n",
        "print(type(name))"
      ],
      "metadata": {
        "colab": {
          "base_uri": "https://localhost:8080/"
        },
        "id": "L6G9SH6YbE3h",
        "outputId": "050a78f6-f207-4b5a-d9e3-389c56ddbf30"
      },
      "execution_count": 1,
      "outputs": [
        {
          "output_type": "stream",
          "name": "stdout",
          "text": [
            "<class 'str'>\n"
          ]
        }
      ]
    },
    {
      "cell_type": "code",
      "source": [],
      "metadata": {
        "id": "-LLoDtgqbPDk"
      },
      "execution_count": null,
      "outputs": []
    },
    {
      "cell_type": "markdown",
      "source": [
        "# ***Sequential data types***\n",
        "1. List\n",
        "2. Tuples\n",
        "3. Range"
      ],
      "metadata": {
        "id": "y5aZcEy4c-DB"
      }
    },
    {
      "cell_type": "code",
      "source": [
        "n=['aryan','21','r']\n",
        "type(n)\n",
        "print(len(n))\n",
        "print(n+n)\n",
        "print(len(n+n))"
      ],
      "metadata": {
        "colab": {
          "base_uri": "https://localhost:8080/"
        },
        "id": "RyQQ1EUsdPYQ",
        "outputId": "890e7ab8-9cf8-4232-9cf2-96673f929232"
      },
      "execution_count": 2,
      "outputs": [
        {
          "output_type": "stream",
          "name": "stdout",
          "text": [
            "3\n",
            "['aryan', '21', 'r', 'aryan', '21', 'r']\n",
            "6\n"
          ]
        }
      ]
    },
    {
      "cell_type": "code",
      "source": [
        "n.append(\"sa\")\n",
        "n"
      ],
      "metadata": {
        "colab": {
          "base_uri": "https://localhost:8080/"
        },
        "id": "dDFW2hafdZ4Q",
        "outputId": "3fb207c2-73d5-4fd0-ba75-10943dc2e982"
      },
      "execution_count": 3,
      "outputs": [
        {
          "output_type": "execute_result",
          "data": {
            "text/plain": [
              "['aryan', '21', 'r', 'sa']"
            ]
          },
          "metadata": {},
          "execution_count": 3
        }
      ]
    },
    {
      "cell_type": "code",
      "source": [
        "n.append(\"astro\")\n",
        "n"
      ],
      "metadata": {
        "colab": {
          "base_uri": "https://localhost:8080/"
        },
        "id": "eKqKn_-heuAz",
        "outputId": "6885b2c1-ee87-4b66-adc9-e5bad81a5607"
      },
      "execution_count": 5,
      "outputs": [
        {
          "output_type": "execute_result",
          "data": {
            "text/plain": [
              "['aryan', '21', 'r', 'sa', 'adi', 'astro']"
            ]
          },
          "metadata": {},
          "execution_count": 5
        }
      ]
    },
    {
      "cell_type": "code",
      "source": [
        "n.sort()\n",
        "n"
      ],
      "metadata": {
        "colab": {
          "base_uri": "https://localhost:8080/"
        },
        "id": "h9gYGWR7fv8i",
        "outputId": "6b56c273-3361-4399-acd5-1061b0499b7a"
      },
      "execution_count": 6,
      "outputs": [
        {
          "output_type": "execute_result",
          "data": {
            "text/plain": [
              "['21', 'adi', 'aryan', 'astro', 'r', 'sa']"
            ]
          },
          "metadata": {},
          "execution_count": 6
        }
      ]
    },
    {
      "cell_type": "code",
      "source": [
        "tuple1=(\"aryan\",\"n\")\n",
        "type(tuple1)"
      ],
      "metadata": {
        "id": "bm9I6xwpgOeX",
        "colab": {
          "base_uri": "https://localhost:8080/"
        },
        "outputId": "07f34584-7a02-411b-d7cf-0d5dfe2935bb"
      },
      "execution_count": 7,
      "outputs": [
        {
          "output_type": "execute_result",
          "data": {
            "text/plain": [
              "tuple"
            ]
          },
          "metadata": {},
          "execution_count": 7
        }
      ]
    },
    {
      "cell_type": "code",
      "source": [
        "print(tuple1[1])\n",
        "print(tuple1[0])"
      ],
      "metadata": {
        "colab": {
          "base_uri": "https://localhost:8080/"
        },
        "id": "v_UY2w6zWfg9",
        "outputId": "0d63c738-1aa6-449c-a976-85c5e08c5508"
      },
      "execution_count": 8,
      "outputs": [
        {
          "output_type": "stream",
          "name": "stdout",
          "text": [
            "n\n",
            "aryan\n"
          ]
        }
      ]
    },
    {
      "cell_type": "code",
      "source": [
        "print(tuple[-1])"
      ],
      "metadata": {
        "colab": {
          "base_uri": "https://localhost:8080/"
        },
        "id": "hGWVaeoFW3Xa",
        "outputId": "657a1024-b453-4a1c-a8c1-a3522e5748ca"
      },
      "execution_count": null,
      "outputs": [
        {
          "output_type": "stream",
          "name": "stdout",
          "text": [
            "tuple[-1]\n"
          ]
        }
      ]
    },
    {
      "cell_type": "code",
      "source": [
        "tuple3=tuple1+tuple1\n",
        "print(tuple3)"
      ],
      "metadata": {
        "colab": {
          "base_uri": "https://localhost:8080/"
        },
        "id": "58yXB9dIXE9u",
        "outputId": "56672b31-6687-4adb-c385-a9a2ac3dfed3"
      },
      "execution_count": 9,
      "outputs": [
        {
          "output_type": "stream",
          "name": "stdout",
          "text": [
            "('aryan', 'n', 'aryan', 'n')\n"
          ]
        }
      ]
    },
    {
      "cell_type": "code",
      "source": [
        "y=tuple3.index('n')\n",
        "print(y)"
      ],
      "metadata": {
        "colab": {
          "base_uri": "https://localhost:8080/"
        },
        "id": "MmPpqKKvXQxs",
        "outputId": "6b4e5d11-5455-4205-a3c8-782bbbc15417"
      },
      "execution_count": 10,
      "outputs": [
        {
          "output_type": "stream",
          "name": "stdout",
          "text": [
            "1\n"
          ]
        }
      ]
    },
    {
      "cell_type": "code",
      "source": [
        "x=tuple3.count('n')\n",
        "print(x)"
      ],
      "metadata": {
        "colab": {
          "base_uri": "https://localhost:8080/"
        },
        "id": "LApgPROtXq34",
        "outputId": "434a0cd4-34fc-4580-e439-d0bc887609bf"
      },
      "execution_count": 11,
      "outputs": [
        {
          "output_type": "stream",
          "name": "stdout",
          "text": [
            "2\n"
          ]
        }
      ]
    },
    {
      "cell_type": "code",
      "source": [
        "a=(\"ram\",\"sham\",\"aam\")\n",
        "print(type(a))\n",
        "b=list(a)\n",
        "b[2]=\"kam\"\n",
        "a=tuple(b)\n",
        "print(a)"
      ],
      "metadata": {
        "colab": {
          "base_uri": "https://localhost:8080/"
        },
        "id": "yC811y4BX4wM",
        "outputId": "a842036c-523b-450e-f6ca-81ff3d78152b"
      },
      "execution_count": 12,
      "outputs": [
        {
          "output_type": "stream",
          "name": "stdout",
          "text": [
            "<class 'tuple'>\n",
            "('ram', 'sham', 'kam')\n"
          ]
        }
      ]
    },
    {
      "cell_type": "code",
      "source": [
        "b=list(a)\n",
        "b.append(\"aam\")\n",
        "a=tuple(b)\n",
        "print(a)"
      ],
      "metadata": {
        "colab": {
          "base_uri": "https://localhost:8080/"
        },
        "id": "NxGZLjJyZWKi",
        "outputId": "8f58f680-cd95-4ca4-bee9-a549a676d4b1"
      },
      "execution_count": 13,
      "outputs": [
        {
          "output_type": "stream",
          "name": "stdout",
          "text": [
            "('ram', 'sham', 'kam', 'aam')\n"
          ]
        }
      ]
    },
    {
      "cell_type": "code",
      "source": [
        "set1={\"asd\",\"dsa\",\"sda\"}\n",
        "print(set1)"
      ],
      "metadata": {
        "colab": {
          "base_uri": "https://localhost:8080/"
        },
        "id": "JPi0fzRRZoai",
        "outputId": "9696cf18-726b-4dbb-9738-4f8ecf85adbb"
      },
      "execution_count": 14,
      "outputs": [
        {
          "output_type": "stream",
          "name": "stdout",
          "text": [
            "{'dsa', 'sda', 'asd'}\n"
          ]
        }
      ]
    },
    {
      "cell_type": "code",
      "source": [
        "set1.add(\"sa\")\n",
        "print(set1)"
      ],
      "metadata": {
        "colab": {
          "base_uri": "https://localhost:8080/"
        },
        "id": "UGgw2SvGaLuR",
        "outputId": "0452d247-855c-4f86-8163-bda51927bcad"
      },
      "execution_count": null,
      "outputs": [
        {
          "output_type": "stream",
          "name": "stdout",
          "text": [
            "{'asd', 'sa', 'sda', 'dsa'}\n"
          ]
        }
      ]
    },
    {
      "cell_type": "code",
      "source": [
        "set2={\"jh\",\"as\",\"kjl\"}\n",
        "set1.update(set2)\n",
        "print(set1)"
      ],
      "metadata": {
        "colab": {
          "base_uri": "https://localhost:8080/"
        },
        "id": "MTQZRb6VaXvF",
        "outputId": "dfa42f09-9794-4445-9fc2-d188778e54cb"
      },
      "execution_count": null,
      "outputs": [
        {
          "output_type": "stream",
          "name": "stdout",
          "text": [
            "{'as', 'sa', 'sda', 'asd', 'kjl', 'jh', 'dsa'}\n"
          ]
        }
      ]
    },
    {
      "cell_type": "code",
      "source": [],
      "metadata": {
        "id": "KCMrx0ttam34"
      },
      "execution_count": null,
      "outputs": []
    },
    {
      "cell_type": "markdown",
      "source": [
        "# **Dictionaries**"
      ],
      "metadata": {
        "id": "-TK4xCmwa2Bh"
      }
    },
    {
      "cell_type": "code",
      "source": [
        "dict1={\"name\":\"aryan\",\"age\":\"20\",\"year\":\"2004\"}\n",
        "print(dict1)"
      ],
      "metadata": {
        "colab": {
          "base_uri": "https://localhost:8080/"
        },
        "id": "aKKllJMUa5r3",
        "outputId": "a2ba9ba6-3c05-4141-b8cb-cedaf521a3c3"
      },
      "execution_count": 17,
      "outputs": [
        {
          "output_type": "stream",
          "name": "stdout",
          "text": [
            "{'name': 'aryan', 'age': '20', 'year': '2004'}\n"
          ]
        }
      ]
    },
    {
      "cell_type": "code",
      "source": [
        "print(type(dict1))"
      ],
      "metadata": {
        "colab": {
          "base_uri": "https://localhost:8080/"
        },
        "id": "50deFYnIbldC",
        "outputId": "6f7862ce-a8e0-43c7-8435-fc97c10e6132"
      },
      "execution_count": 18,
      "outputs": [
        {
          "output_type": "stream",
          "name": "stdout",
          "text": [
            "<class 'dict'>\n"
          ]
        }
      ]
    },
    {
      "cell_type": "code",
      "source": [
        "dict2=dict(colour=\"orange\",game=\"cricket\")\n",
        "print(dict2)"
      ],
      "metadata": {
        "colab": {
          "base_uri": "https://localhost:8080/"
        },
        "id": "d8NwEA-ebrlu",
        "outputId": "f7912d03-378a-431c-9c2f-cea8013aa3e0"
      },
      "execution_count": 19,
      "outputs": [
        {
          "output_type": "stream",
          "name": "stdout",
          "text": [
            "{'colour': 'orange', 'game': 'cricket'}\n"
          ]
        }
      ]
    },
    {
      "cell_type": "code",
      "source": [
        "dict1.values()"
      ],
      "metadata": {
        "colab": {
          "base_uri": "https://localhost:8080/"
        },
        "id": "7yZ1As24X1pb",
        "outputId": "7d50167d-6f87-4511-94ac-11825dda8f80"
      },
      "execution_count": 20,
      "outputs": [
        {
          "output_type": "execute_result",
          "data": {
            "text/plain": [
              "dict_values(['aryan', '20', '2004'])"
            ]
          },
          "metadata": {},
          "execution_count": 20
        }
      ]
    },
    {
      "cell_type": "code",
      "source": [
        "dict1.keys()"
      ],
      "metadata": {
        "colab": {
          "base_uri": "https://localhost:8080/"
        },
        "id": "e2HrZq1NX9ks",
        "outputId": "06a07510-875e-49df-f895-e015db99092c"
      },
      "execution_count": 21,
      "outputs": [
        {
          "output_type": "execute_result",
          "data": {
            "text/plain": [
              "dict_keys(['name', 'age', 'year'])"
            ]
          },
          "metadata": {},
          "execution_count": 21
        }
      ]
    },
    {
      "cell_type": "markdown",
      "source": [
        "# **Conditional Statement**"
      ],
      "metadata": {
        "id": "9VR-yLvhcwpN"
      }
    },
    {
      "cell_type": "code",
      "source": [
        "a=input(\"enter the value of a\")\n",
        "b=input(\"enter the value of b\")\n",
        "print(a)\n",
        "print(b)"
      ],
      "metadata": {
        "colab": {
          "base_uri": "https://localhost:8080/"
        },
        "id": "Kn_VptQZcGUK",
        "outputId": "23f04022-5400-4459-e8fd-e5e3478380dc"
      },
      "execution_count": null,
      "outputs": [
        {
          "output_type": "stream",
          "name": "stdout",
          "text": [
            "enter the value of a3\n",
            "enter the value of b2\n",
            "3\n",
            "2\n"
          ]
        }
      ]
    },
    {
      "cell_type": "code",
      "source": [
        "if a>b:\n",
        "  print(\"a is greater than b\")\n",
        "if a==b:\n",
        "  print(\"a is equal than b\")\n",
        "else:\n",
        "  print(\"hi\")"
      ],
      "metadata": {
        "colab": {
          "base_uri": "https://localhost:8080/"
        },
        "id": "wgYf3KJJdAls",
        "outputId": "686b3183-626f-4644-9a41-958a151d17e6"
      },
      "execution_count": null,
      "outputs": [
        {
          "output_type": "stream",
          "name": "stdout",
          "text": [
            "a is greater than b\n",
            "hi\n"
          ]
        }
      ]
    },
    {
      "cell_type": "code",
      "source": [],
      "metadata": {
        "id": "9BKfEVObeEZv"
      },
      "execution_count": null,
      "outputs": []
    },
    {
      "cell_type": "markdown",
      "source": [
        "# **Operators**"
      ],
      "metadata": {
        "id": "mT5r18e_gcyb"
      }
    },
    {
      "cell_type": "code",
      "source": [
        "x=16\n",
        "y=8\n",
        "print(x+y)\n",
        "print(x-y)\n",
        "print(x*y)\n",
        "print(x/y)\n",
        "print(x//y)\n",
        "print(x**2)\n",
        "print(x%3)"
      ],
      "metadata": {
        "colab": {
          "base_uri": "https://localhost:8080/"
        },
        "id": "UYDKLA4dgga-",
        "outputId": "4bb93713-cd33-4f1c-b6de-5ccca281fe5b"
      },
      "execution_count": null,
      "outputs": [
        {
          "output_type": "stream",
          "name": "stdout",
          "text": [
            "24\n",
            "8\n",
            "128\n",
            "2.0\n",
            "2\n",
            "256\n",
            "1\n"
          ]
        }
      ]
    },
    {
      "cell_type": "code",
      "source": [
        "g=int(input(\"enter the value\"))\n",
        "print(type(g))"
      ],
      "metadata": {
        "colab": {
          "base_uri": "https://localhost:8080/"
        },
        "id": "Arozq3Yyg96x",
        "outputId": "b41d36d8-ad15-4a75-da6b-1974e41c7256"
      },
      "execution_count": null,
      "outputs": [
        {
          "output_type": "stream",
          "name": "stdout",
          "text": [
            "enter the value5\n",
            "<class 'int'>\n"
          ]
        }
      ]
    },
    {
      "cell_type": "code",
      "source": [
        "print(g>8 and g<67)"
      ],
      "metadata": {
        "colab": {
          "base_uri": "https://localhost:8080/"
        },
        "id": "YSdQT8I2iduT",
        "outputId": "587d8bce-525b-4928-a5d9-e34f227b24e6"
      },
      "execution_count": null,
      "outputs": [
        {
          "output_type": "stream",
          "name": "stdout",
          "text": [
            "False\n"
          ]
        }
      ]
    },
    {
      "cell_type": "code",
      "source": [
        "print(8 & 13)"
      ],
      "metadata": {
        "colab": {
          "base_uri": "https://localhost:8080/"
        },
        "id": "Sdd4PytyipRZ",
        "outputId": "c653c912-e6c6-4a16-e9a6-d07ca4ef829f"
      },
      "execution_count": null,
      "outputs": [
        {
          "output_type": "stream",
          "name": "stdout",
          "text": [
            "8\n"
          ]
        }
      ]
    },
    {
      "cell_type": "code",
      "source": [
        "print(0xF & 0xE)"
      ],
      "metadata": {
        "colab": {
          "base_uri": "https://localhost:8080/"
        },
        "id": "hiYi74ZekWCs",
        "outputId": "667d8dfa-af0c-42d5-dc22-5b2995c04522"
      },
      "execution_count": null,
      "outputs": [
        {
          "output_type": "stream",
          "name": "stdout",
          "text": [
            "14\n"
          ]
        }
      ]
    },
    {
      "cell_type": "code",
      "source": [],
      "metadata": {
        "id": "wURpjICIkkBQ"
      },
      "execution_count": null,
      "outputs": []
    },
    {
      "cell_type": "markdown",
      "source": [
        "# **Functions**"
      ],
      "metadata": {
        "id": "eeWDpDTQkJkV"
      }
    },
    {
      "cell_type": "code",
      "source": [
        "def cake(p,s,f):\n",
        "  print(\"Price of cake=\",p)\n",
        "  print(\"Flavour of cake=\",s)\n",
        "  print(\"weight of cake=\",f)\n",
        "\n",
        "cake(\"200\",\"Red Velvet\",\"5Kg\")"
      ],
      "metadata": {
        "colab": {
          "base_uri": "https://localhost:8080/"
        },
        "id": "JoD9BnU9kNYv",
        "outputId": "fab39e3a-5401-482f-9985-0dde69960d9d"
      },
      "execution_count": null,
      "outputs": [
        {
          "output_type": "stream",
          "name": "stdout",
          "text": [
            "Price of cake= 200\n",
            "Flavour of cake= Red Velvet\n",
            "weight of cake= 5Kg\n"
          ]
        }
      ]
    },
    {
      "cell_type": "code",
      "source": [],
      "metadata": {
        "id": "3QgozMxxkwil"
      },
      "execution_count": null,
      "outputs": []
    },
    {
      "cell_type": "markdown",
      "source": [
        "# **Modules**"
      ],
      "metadata": {
        "id": "AnFZsRXzoVLd"
      }
    },
    {
      "cell_type": "code",
      "source": [
        "import random\n",
        "\n",
        "x=random.randint(1,9)\n",
        "print(x)\n",
        "y=random.random()\n",
        "print(y)"
      ],
      "metadata": {
        "colab": {
          "base_uri": "https://localhost:8080/"
        },
        "id": "RVDPJ_HeoYk9",
        "outputId": "81bf9ce7-7e93-4dc9-e22f-6c3845f6f236"
      },
      "execution_count": null,
      "outputs": [
        {
          "output_type": "stream",
          "name": "stdout",
          "text": [
            "5\n",
            "0.30498362340617124\n"
          ]
        }
      ]
    },
    {
      "cell_type": "markdown",
      "source": [
        "## ***Args and Kwargs***"
      ],
      "metadata": {
        "id": "mv03vyA1ZNWN"
      }
    },
    {
      "cell_type": "code",
      "source": [
        "#args\n",
        "def add(*num):\n",
        "    sum=0\n",
        "    for i in num:\n",
        "        sum=sum+i\n",
        "    return sum\n",
        "\n",
        "print(add(1,2,3,4,5))\n",
        "\n",
        "#kwargs\n",
        "\n",
        "def greet(**kwargs):\n",
        "    print(\"hello\")\n",
        "    for key,value in kwargs.items():\n",
        "        print(value, end=\" \")\n",
        "\n",
        "\n",
        "greet(name='aryan',usn='skfjsnf',branch='ece')"
      ],
      "metadata": {
        "id": "6ub_ZwIuZVoa"
      },
      "execution_count": null,
      "outputs": []
    },
    {
      "cell_type": "markdown",
      "source": [
        "# **Lottery Game**"
      ],
      "metadata": {
        "id": "CJWarWKlpAfa"
      }
    },
    {
      "cell_type": "code",
      "source": [
        "import random\n",
        "\n",
        "user_wins=0\n",
        "computer_wins=0\n",
        "\n",
        "for i in range(10):\n",
        "    computer=random.randint(1,9)\n",
        "\n",
        "    userinput=int(input(\"Enter number between 1 and 9: \"))\n",
        "    print(computer)\n",
        "    print(userinput)\n",
        "\n",
        "    if computer>userinput:\n",
        "        print(\"computer won\")\n",
        "        computer_wins+=1\n",
        "    elif computer==userinput:\n",
        "        print(\"its a tie\")\n",
        "    else:\n",
        "        print(\"you won\")\n",
        "        user_wins+=1\n",
        "\n",
        "print(\"game over\\n\")\n",
        "print(\"user wins: \",user_wins)\n",
        "print(\"computer wins: \",computer_wins)\n",
        "\n",
        "\n",
        "if user_wins>computer_wins:\n",
        "    print(\"User is the winner\")\n",
        "elif user_wins==computer_wins:\n",
        "    print(\"its a tie between user and computer\")\n",
        "else:\n",
        "    print(\"computer is the winner\")"
      ],
      "metadata": {
        "id": "N19BZFzCpDms"
      },
      "execution_count": null,
      "outputs": []
    },
    {
      "cell_type": "markdown",
      "source": [
        "# ***Rock Paper scissors Game***"
      ],
      "metadata": {
        "id": "zeWGHcWGqg3W"
      }
    },
    {
      "cell_type": "code",
      "source": [
        "import random\n",
        "\n",
        "gamelist=['rock','paper','scissors']\n",
        "comp=random.choice(gamelist)\n",
        "user=input(\"enter either rock paper or scissors: \")\n",
        "\n",
        "print(comp)\n",
        "print(user)\n",
        "\n",
        "if (comp=='rock' and user=='paper'):\n",
        "    print(\"computer won\")\n",
        "elif (comp=='paper' and user=='scissors'):\n",
        "    print(\"user won\")\n",
        "else:\n",
        "    print(\"tie\")"
      ],
      "metadata": {
        "id": "XLv3qixOqp-2"
      },
      "execution_count": null,
      "outputs": []
    },
    {
      "cell_type": "code",
      "source": [],
      "metadata": {
        "id": "mVBVrEqiswsG"
      },
      "execution_count": null,
      "outputs": []
    },
    {
      "cell_type": "markdown",
      "source": [
        "# **Numpy - Numerical python**"
      ],
      "metadata": {
        "id": "hrBRacGctnmx"
      }
    },
    {
      "cell_type": "code",
      "source": [
        "import numpy as np\n",
        "\n",
        "c=np.array([11,12,32,23,1,45,67,43,29])\n",
        "print(type(a))\n",
        "\n",
        "a=np.zeros(5)\n",
        "print(a)\n",
        "\n",
        "b=np.ones(3)\n",
        "print(b)\n",
        "\n",
        "d=np.sort(c)\n",
        "print(d)"
      ],
      "metadata": {
        "colab": {
          "base_uri": "https://localhost:8080/"
        },
        "id": "szW4VvBFtuR_",
        "outputId": "85ece5cf-a90f-45fa-b975-c94984d23697"
      },
      "execution_count": null,
      "outputs": [
        {
          "output_type": "stream",
          "name": "stdout",
          "text": [
            "<class 'numpy.ndarray'>\n",
            "[0. 0. 0. 0. 0.]\n",
            "[1. 1. 1.]\n",
            "[ 1 11 12 23 29 32 43 45 67]\n"
          ]
        }
      ]
    },
    {
      "cell_type": "code",
      "source": [
        "import numpy as np\n",
        "\n",
        "n1=np.array([10,20,30])\n",
        "n1=n1+1\n",
        "print (n1)\n",
        "\n",
        "n2=np.array([10,20,30])\n",
        "n2=n2*2\n",
        "print (n2)\n",
        "\n",
        "n3=np.array([10,20,30])\n",
        "n3=n3-1\n",
        "print (n3)\n",
        "\n",
        "\n",
        "n4=np.array([10,20,30])\n",
        "n4=n4/2\n",
        "print (n4)"
      ],
      "metadata": {
        "id": "nJEYvHHZulCT"
      },
      "execution_count": null,
      "outputs": []
    },
    {
      "cell_type": "markdown",
      "source": [
        "# **Matplotlib**"
      ],
      "metadata": {
        "id": "ppbCM_iJrBet"
      }
    },
    {
      "cell_type": "code",
      "source": [
        "import matplotlib\n",
        "print(matplotlib.__version__)"
      ],
      "metadata": {
        "colab": {
          "base_uri": "https://localhost:8080/"
        },
        "id": "7WeZkuKNrEZt",
        "outputId": "6d5cabf0-6f53-4c13-8165-a88baf44b7ae"
      },
      "execution_count": null,
      "outputs": [
        {
          "output_type": "stream",
          "name": "stdout",
          "text": [
            "3.7.1\n"
          ]
        }
      ]
    },
    {
      "cell_type": "code",
      "source": [
        "import matplotlib.pyplot as plt\n",
        "import numpy as np\n",
        "\n",
        "x=np.linspace(0,1,10)\n",
        "m=0.6\n",
        "C=25\n",
        "y=m*x+C\n",
        "plt.plot(x,y)\n",
        "plt.show()\n"
      ],
      "metadata": {
        "colab": {
          "base_uri": "https://localhost:8080/",
          "height": 430
        },
        "id": "wvwrHFOArTyI",
        "outputId": "c7b926cb-d685-427d-a044-9e012c080e82"
      },
      "execution_count": null,
      "outputs": [
        {
          "output_type": "display_data",
          "data": {
            "text/plain": [
              "<Figure size 640x480 with 1 Axes>"
            ],
            "image/png": "[encoded data removed]"
          },
          "metadata": {}
        }
      ]
    },
    {
      "cell_type": "code",
      "source": [
        "import matplotlib.pyplot as plt\n",
        "import numpy as np\n",
        "\n",
        "x=np.linspace(0,10,100)\n",
        "y=8+ 4* np.sin(2*x)\n",
        "\n",
        "fig, a = plt.subplots()\n",
        "a.plot(x,y,linewidth=(2.0))\n",
        "\n",
        "a.set(xlim=(0, 8),xticks=np.arange(1, 8),\n",
        "      ylim=(0, 8),yticks=np.arange(1, 8))\n",
        "plt.show()"
      ],
      "metadata": {
        "colab": {
          "base_uri": "https://localhost:8080/",
          "height": 430
        },
        "id": "oDdn_q5psZTu",
        "outputId": "9f3b96e1-6672-4c2a-86d5-1cfeb7192743"
      },
      "execution_count": null,
      "outputs": [
        {
          "output_type": "display_data",
          "data": {
            "text/plain": [
              "<Figure size 640x480 with 1 Axes>"
            ],
            "image/png": "[encoded data removed]"
          },
          "metadata": {}
        }
      ]
    },
    {
      "cell_type": "code",
      "source": [],
      "metadata": {
        "id": "2UydU8HXvC9i"
      },
      "execution_count": null,
      "outputs": []
    },
    {
      "cell_type": "markdown",
      "source": [
        "# **scatter plot**"
      ],
      "metadata": {
        "id": "vbVxhCrxw2iQ"
      }
    },
    {
      "cell_type": "code",
      "source": [
        "import matplotlib.pyplot as plt\n",
        "import numpy as np\n",
        "\n",
        "Temp=np.array([10, 20, 25, 30, 40, 50, 60, 70, 80, 90, 100, 110, 120])\n",
        "Res=np.array([18476, 12185, 10000, 8260,5740, 4080, 2960,2188,1645,1257,973,765,608])\n",
        "\n",
        "plt.scatter(Temp,Res)\n",
        "plt.show()"
      ],
      "metadata": {
        "colab": {
          "base_uri": "https://localhost:8080/",
          "height": 430
        },
        "id": "mDGCIjZDw6Fv",
        "outputId": "90a1a7e7-68c1-4afe-9e54-e53b66b662a0"
      },
      "execution_count": null,
      "outputs": [
        {
          "output_type": "display_data",
          "data": {
            "text/plain": [
              "<Figure size 640x480 with 1 Axes>"
            ],
            "image/png": "[encoded data removed]"
          },
          "metadata": {}
        }
      ]
    },
    {
      "cell_type": "code",
      "source": [
        "import matplotlib.pyplot as plt\n",
        "import numpy as np\n",
        "\n",
        "Temp=np.array([10, 20, 25, 30, 40, 50, 60, 70, 80, 90, 100, 110, 120])\n",
        "Res=np.array([18476, 12185, 10000, 8260,5740, 4080, 2960,2188,1645,1257,973,765,608])\n",
        "\n",
        "plt.title(\"Transistor char\")\n",
        "plt.xlabel(\"Temp\")\n",
        "plt.ylabel(\"Res\")\n",
        "plt.grid()\n",
        "plt.plot(Temp,Res)\n",
        "plt.show()"
      ],
      "metadata": {
        "colab": {
          "base_uri": "https://localhost:8080/",
          "height": 472
        },
        "id": "rAJraN0txUir",
        "outputId": "ed06b2b1-a4ae-410f-860d-24a3dc594740"
      },
      "execution_count": null,
      "outputs": [
        {
          "output_type": "display_data",
          "data": {
            "text/plain": [
              "<Figure size 640x480 with 1 Axes>"
            ],
            "image/png": "[encoded data removed]"
          },
          "metadata": {}
        }
      ]
    },
    {
      "cell_type": "code",
      "source": [
        "import matplotlib.pyplot as plt\n",
        "import numpy as np\n",
        "\n",
        "x=np.array([\"Karnataka\", \"AP\", \"TN\", \"TG\"])\n",
        "y=np.array([65, 68, 89, 86])\n",
        "\n",
        "plt.bar(x,y)\n",
        "plt.show()\n",
        "plt.pie(y)"
      ],
      "metadata": {
        "colab": {
          "base_uri": "https://localhost:8080/",
          "height": 958
        },
        "id": "rV6jWiBtynlZ",
        "outputId": "8b3c3e43-4456-4021-b058-9ced88c1b7f7"
      },
      "execution_count": null,
      "outputs": [
        {
          "output_type": "display_data",
          "data": {
            "text/plain": [
              "<Figure size 640x480 with 1 Axes>"
            ],
            "image/png": "[encoded data removed]"
          },
          "metadata": {}
        },
        {
          "output_type": "execute_result",
          "data": {
            "text/plain": [
              "([<matplotlib.patches.Wedge at 0x78ab873b16c0>,\n",
              "  <matplotlib.patches.Wedge at 0x78ab873b07c0>,\n",
              "  <matplotlib.patches.Wedge at 0x78ab873b1d20>,\n",
              "  <matplotlib.patches.Wedge at 0x78ab873b1d80>],\n",
              " [Text(0.8669653092095793, 0.677031131209739, ''),\n",
              "  Text(-0.4772721329129438, 0.9910657451172095, ''),\n",
              "  Text(-0.9759995429712106, -0.5073705668640902, ''),\n",
              "  Text(0.703239249547408, -0.845845469276746, '')])"
            ]
          },
          "metadata": {},
          "execution_count": 15
        },
        {
          "output_type": "display_data",
          "data": {
            "text/plain": [
              "<Figure size 640x480 with 1 Axes>"
            ],
            "image/png": "[encoded data removed]"
          },
          "metadata": {}
        }
      ]
    },
    {
      "cell_type": "code",
      "source": [
        "import matplotlib.pyplot as plt\n",
        "import numpy as np\n",
        "\n",
        "x=np.random.normal(5,1,10000)\n",
        "\n",
        "plt.hist(x,100)\n",
        "plt.show()"
      ],
      "metadata": {
        "colab": {
          "base_uri": "https://localhost:8080/",
          "height": 430
        },
        "id": "6vUkWr-q0I3y",
        "outputId": "62bedbd7-679f-41b7-905e-1f47206e9646"
      },
      "execution_count": null,
      "outputs": [
        {
          "output_type": "display_data",
          "data": {
            "text/plain": [
              "<Figure size 640x480 with 1 Axes>"
            ],
            "image/png": "[encoded data removed]"
          },
          "metadata": {}
        }
      ]
    },
    {
      "cell_type": "code",
      "source": [],
      "metadata": {
        "id": "R6R8C7I401yJ"
      },
      "execution_count": null,
      "outputs": []
    },
    {
      "cell_type": "markdown",
      "source": [
        "# **Pandas**"
      ],
      "metadata": {
        "id": "enw381oj1a1r"
      }
    },
    {
      "cell_type": "code",
      "source": [
        "import pandas as pd\n",
        "print(pd.__version__)"
      ],
      "metadata": {
        "colab": {
          "base_uri": "https://localhost:8080/"
        },
        "id": "xkKTYiwn1dL0",
        "outputId": "c89fae0a-0222-4b1b-8725-e7099342bcff"
      },
      "execution_count": null,
      "outputs": [
        {
          "output_type": "stream",
          "name": "stdout",
          "text": [
            "1.5.3\n"
          ]
        }
      ]
    },
    {
      "cell_type": "code",
      "source": [
        "import pandas as pd\n",
        "data=pd.read_csv('/content/sample_data/california_housing_train.csv')\n",
        "print(data)\n"
      ],
      "metadata": {
        "colab": {
          "base_uri": "https://localhost:8080/"
        },
        "id": "PhqsO5LU1kWD",
        "outputId": "7729688d-a5c0-464a-976f-5999028229fb"
      },
      "execution_count": null,
      "outputs": [
        {
          "output_type": "stream",
          "name": "stdout",
          "text": [
            "       longitude  latitude  housing_median_age  total_rooms  total_bedrooms  \\\n",
            "0        -114.31     34.19                15.0       5612.0          1283.0   \n",
            "1        -114.47     34.40                19.0       7650.0          1901.0   \n",
            "2        -114.56     33.69                17.0        720.0           174.0   \n",
            "3        -114.57     33.64                14.0       1501.0           337.0   \n",
            "4        -114.57     33.57                20.0       1454.0           326.0   \n",
            "...          ...       ...                 ...          ...             ...   \n",
            "16995    -124.26     40.58                52.0       2217.0           394.0   \n",
            "16996    -124.27     40.69                36.0       2349.0           528.0   \n",
            "16997    -124.30     41.84                17.0       2677.0           531.0   \n",
            "16998    -124.30     41.80                19.0       2672.0           552.0   \n",
            "16999    -124.35     40.54                52.0       1820.0           300.0   \n",
            "\n",
            "       population  households  median_income  median_house_value  \n",
            "0          1015.0       472.0         1.4936             66900.0  \n",
            "1          1129.0       463.0         1.8200             80100.0  \n",
            "2           333.0       117.0         1.6509             85700.0  \n",
            "3           515.0       226.0         3.1917             73400.0  \n",
            "4           624.0       262.0         1.9250             65500.0  \n",
            "...           ...         ...            ...                 ...  \n",
            "16995       907.0       369.0         2.3571            111400.0  \n",
            "16996      1194.0       465.0         2.5179             79000.0  \n",
            "16997      1244.0       456.0         3.0313            103600.0  \n",
            "16998      1298.0       478.0         1.9797             85800.0  \n",
            "16999       806.0       270.0         3.0147             94600.0  \n",
            "\n",
            "[17000 rows x 9 columns]\n"
          ]
        }
      ]
    },
    {
      "cell_type": "code",
      "source": [
        "import pandas as pd\n",
        "\n",
        "da=pd.read_csv('/content/sample_data/california_housing_test.csv')\n",
        "da.corr()\n"
      ],
      "metadata": {
        "colab": {
          "base_uri": "https://localhost:8080/",
          "height": 351
        },
        "id": "ADPUc4c53JB6",
        "outputId": "eb284a53-896e-4cf7-c653-2de9fa518f52"
      },
      "execution_count": null,
      "outputs": [
        {
          "output_type": "execute_result",
          "data": {
            "text/plain": [
              "                    longitude  latitude  housing_median_age  total_rooms  \\\n",
              "longitude            1.000000 -0.925017           -0.064203     0.049865   \n",
              "latitude            -0.925017  1.000000           -0.025143    -0.039632   \n",
              "housing_median_age  -0.064203 -0.025143            1.000000    -0.367850   \n",
              "total_rooms          0.049865 -0.039632           -0.367850     1.000000   \n",
              "total_bedrooms       0.070869 -0.068245           -0.323154     0.937749   \n",
              "population           0.111572 -0.117318           -0.299888     0.838867   \n",
              "households           0.051062 -0.068296           -0.305171     0.914116   \n",
              "median_income       -0.018701 -0.072363           -0.144315     0.221249   \n",
              "median_house_value  -0.050662 -0.138428            0.091409     0.160427   \n",
              "\n",
              "                    total_bedrooms  population  households  median_income  \\\n",
              "longitude                 0.070869    0.111572    0.051062      -0.018701   \n",
              "latitude                 -0.068245   -0.117318   -0.068296      -0.072363   \n",
              "housing_median_age       -0.323154   -0.299888   -0.305171      -0.144315   \n",
              "total_rooms               0.937749    0.838867    0.914116       0.221249   \n",
              "total_bedrooms            1.000000    0.856387    0.970758       0.024025   \n",
              "population                0.856387    1.000000    0.895530       0.032361   \n",
              "households                0.970758    0.895530    1.000000       0.048625   \n",
              "median_income             0.024025    0.032361    0.048625       1.000000   \n",
              "median_house_value        0.082279   -0.001192    0.100176       0.672695   \n",
              "\n",
              "                    median_house_value  \n",
              "longitude                    -0.050662  \n",
              "latitude                     -0.138428  \n",
              "housing_median_age            0.091409  \n",
              "total_rooms                   0.160427  \n",
              "total_bedrooms                0.082279  \n",
              "population                   -0.001192  \n",
              "households                    0.100176  \n",
              "median_income                 0.672695  \n",
              "median_house_value            1.000000  "
            ],
            "text/html": [
              "\n",
              "  <div id=\"df-2119850d-fce1-4b5c-907f-7364fddacb13\" class=\"colab-df-container\">\n",
              "    <div>\n",
              "<style scoped>\n",
              "    .dataframe tbody tr th:only-of-type {\n",
              "        vertical-align: middle;\n",
              "    }\n",
              "\n",
              "    .dataframe tbody tr th {\n",
              "        vertical-align: top;\n",
              "    }\n",
              "\n",
              "    .dataframe thead th {\n",
              "        text-align: right;\n",
              "    }\n",
              "</style>\n",
              "<table border=\"1\" class=\"dataframe\">\n",
              "  <thead>\n",
              "    <tr style=\"text-align: right;\">\n",
              "      <th></th>\n",
              "      <th>longitude</th>\n",
              "      <th>latitude</th>\n",
              "      <th>housing_median_age</th>\n",
              "      <th>total_rooms</th>\n",
              "      <th>total_bedrooms</th>\n",
              "      <th>population</th>\n",
              "      <th>households</th>\n",
              "      <th>median_income</th>\n",
              "      <th>median_house_value</th>\n",
              "    </tr>\n",
              "  </thead>\n",
              "  <tbody>\n",
              "    <tr>\n",
              "      <th>longitude</th>\n",
              "      <td>1.000000</td>\n",
              "      <td>-0.925017</td>\n",
              "      <td>-0.064203</td>\n",
              "      <td>0.049865</td>\n",
              "      <td>0.070869</td>\n",
              "      <td>0.111572</td>\n",
              "      <td>0.051062</td>\n",
              "      <td>-0.018701</td>\n",
              "      <td>-0.050662</td>\n",
              "    </tr>\n",
              "    <tr>\n",
              "      <th>latitude</th>\n",
              "      <td>-0.925017</td>\n",
              "      <td>1.000000</td>\n",
              "      <td>-0.025143</td>\n",
              "      <td>-0.039632</td>\n",
              "      <td>-0.068245</td>\n",
              "      <td>-0.117318</td>\n",
              "      <td>-0.068296</td>\n",
              "      <td>-0.072363</td>\n",
              "      <td>-0.138428</td>\n",
              "    </tr>\n",
              "    <tr>\n",
              "      <th>housing_median_age</th>\n",
              "      <td>-0.064203</td>\n",
              "      <td>-0.025143</td>\n",
              "      <td>1.000000</td>\n",
              "      <td>-0.367850</td>\n",
              "      <td>-0.323154</td>\n",
              "      <td>-0.299888</td>\n",
              "      <td>-0.305171</td>\n",
              "      <td>-0.144315</td>\n",
              "      <td>0.091409</td>\n",
              "    </tr>\n",
              "    <tr>\n",
              "      <th>total_rooms</th>\n",
              "      <td>0.049865</td>\n",
              "      <td>-0.039632</td>\n",
              "      <td>-0.367850</td>\n",
              "      <td>1.000000</td>\n",
              "      <td>0.937749</td>\n",
              "      <td>0.838867</td>\n",
              "      <td>0.914116</td>\n",
              "      <td>0.221249</td>\n",
              "      <td>0.160427</td>\n",
              "    </tr>\n",
              "    <tr>\n",
              "      <th>total_bedrooms</th>\n",
              "      <td>0.070869</td>\n",
              "      <td>-0.068245</td>\n",
              "      <td>-0.323154</td>\n",
              "      <td>0.937749</td>\n",
              "      <td>1.000000</td>\n",
              "      <td>0.856387</td>\n",
              "      <td>0.970758</td>\n",
              "      <td>0.024025</td>\n",
              "      <td>0.082279</td>\n",
              "    </tr>\n",
              "    <tr>\n",
              "      <th>population</th>\n",
              "      <td>0.111572</td>\n",
              "      <td>-0.117318</td>\n",
              "      <td>-0.299888</td>\n",
              "      <td>0.838867</td>\n",
              "      <td>0.856387</td>\n",
              "      <td>1.000000</td>\n",
              "      <td>0.895530</td>\n",
              "      <td>0.032361</td>\n",
              "      <td>-0.001192</td>\n",
              "    </tr>\n",
              "    <tr>\n",
              "      <th>households</th>\n",
              "      <td>0.051062</td>\n",
              "      <td>-0.068296</td>\n",
              "      <td>-0.305171</td>\n",
              "      <td>0.914116</td>\n",
              "      <td>0.970758</td>\n",
              "      <td>0.895530</td>\n",
              "      <td>1.000000</td>\n",
              "      <td>0.048625</td>\n",
              "      <td>0.100176</td>\n",
              "    </tr>\n",
              "    <tr>\n",
              "      <th>median_income</th>\n",
              "      <td>-0.018701</td>\n",
              "      <td>-0.072363</td>\n",
              "      <td>-0.144315</td>\n",
              "      <td>0.221249</td>\n",
              "      <td>0.024025</td>\n",
              "      <td>0.032361</td>\n",
              "      <td>0.048625</td>\n",
              "      <td>1.000000</td>\n",
              "      <td>0.672695</td>\n",
              "    </tr>\n",
              "    <tr>\n",
              "      <th>median_house_value</th>\n",
              "      <td>-0.050662</td>\n",
              "      <td>-0.138428</td>\n",
              "      <td>0.091409</td>\n",
              "      <td>0.160427</td>\n",
              "      <td>0.082279</td>\n",
              "      <td>-0.001192</td>\n",
              "      <td>0.100176</td>\n",
              "      <td>0.672695</td>\n",
              "      <td>1.000000</td>\n",
              "    </tr>\n",
              "  </tbody>\n",
              "</table>\n",
              "</div>\n",
              "    <div class=\"colab-df-buttons\">\n",
              "\n",
              "  <div class=\"colab-df-container\">\n",
              "    <button class=\"colab-df-convert\" onclick=\"convertToInteractive('df-2119850d-fce1-4b5c-907f-7364fddacb13')\"\n",
              "            title=\"Convert this dataframe to an interactive table.\"\n",
              "            style=\"display:none;\">\n",
              "\n",
              "  <svg xmlns=\"http://www.w3.org/2000/svg\" height=\"24px\" viewBox=\"0 -960 960 960\">\n",
              "    <path d=\"M120-120v-720h720v720H120Zm60-500h600v-160H180v160Zm220 220h160v-160H400v160Zm0 220h160v-160H400v160ZM180-400h160v-160H180v160Zm440 0h160v-160H620v160ZM180-180h160v-160H180v160Zm440 0h160v-160H620v160Z\"/>\n",
              "  </svg>\n",
              "    </button>\n",
              "\n",
              "  <style>\n",
              "    .colab-df-container {\n",
              "      display:flex;\n",
              "      gap: 12px;\n",
              "    }\n",
              "\n",
              "    .colab-df-convert {\n",
              "      background-color: #E8F0FE;\n",
              "      border: none;\n",
              "      border-radius: 50%;\n",
              "      cursor: pointer;\n",
              "      display: none;\n",
              "      fill: #1967D2;\n",
              "      height: 32px;\n",
              "      padding: 0 0 0 0;\n",
              "      width: 32px;\n",
              "    }\n",
              "\n",
              "    .colab-df-convert:hover {\n",
              "      background-color: #E2EBFA;\n",
              "      box-shadow: 0px 1px 2px rgba(60, 64, 67, 0.3), 0px 1px 3px 1px rgba(60, 64, 67, 0.15);\n",
              "      fill: #174EA6;\n",
              "    }\n",
              "\n",
              "    .colab-df-buttons div {\n",
              "      margin-bottom: 4px;\n",
              "    }\n",
              "\n",
              "    [theme=dark] .colab-df-convert {\n",
              "      background-color: #3B4455;\n",
              "      fill: #D2E3FC;\n",
              "    }\n",
              "\n",
              "    [theme=dark] .colab-df-convert:hover {\n",
              "      background-color: #434B5C;\n",
              "      box-shadow: 0px 1px 3px 1px rgba(0, 0, 0, 0.15);\n",
              "      filter: drop-shadow(0px 1px 2px rgba(0, 0, 0, 0.3));\n",
              "      fill: #FFFFFF;\n",
              "    }\n",
              "  </style>\n",
              "\n",
              "    <script>\n",
              "      const buttonEl =\n",
              "        document.querySelector('#df-2119850d-fce1-4b5c-907f-7364fddacb13 button.colab-df-convert');\n",
              "      buttonEl.style.display =\n",
              "        google.colab.kernel.accessAllowed ? 'block' : 'none';\n",
              "\n",
              "      async function convertToInteractive(key) {\n",
              "        const element = document.querySelector('#df-2119850d-fce1-4b5c-907f-7364fddacb13');\n",
              "        const dataTable =\n",
              "          await google.colab.kernel.invokeFunction('convertToInteractive',\n",
              "                                                    [key], {});\n",
              "        if (!dataTable) return;\n",
              "\n",
              "        const docLinkHtml = 'Like what you see? Visit the ' +\n",
              "          '<a target=\"_blank\" href=https://colab.research.google.com/notebooks/data_table.ipynb>data table notebook</a>'\n",
              "          + ' to learn more about interactive tables.';\n",
              "        element.innerHTML = '';\n",
              "        dataTable['output_type'] = 'display_data';\n",
              "        await google.colab.output.renderOutput(dataTable, element);\n",
              "        const docLink = document.createElement('div');\n",
              "        docLink.innerHTML = docLinkHtml;\n",
              "        element.appendChild(docLink);\n",
              "      }\n",
              "    </script>\n",
              "  </div>\n",
              "\n",
              "\n",
              "<div id=\"df-76873c3a-3e49-4fff-9cf2-a03cc4648997\">\n",
              "  <button class=\"colab-df-quickchart\" onclick=\"quickchart('df-76873c3a-3e49-4fff-9cf2-a03cc4648997')\"\n",
              "            title=\"Suggest charts.\"\n",
              "            style=\"display:none;\">\n",
              "\n",
              "<svg xmlns=\"http://www.w3.org/2000/svg\" height=\"24px\"viewBox=\"0 0 24 24\"\n",
              "     width=\"24px\">\n",
              "    <g>\n",
              "        <path d=\"M19 3H5c-1.1 0-2 .9-2 2v14c0 1.1.9 2 2 2h14c1.1 0 2-.9 2-2V5c0-1.1-.9-2-2-2zM9 17H7v-7h2v7zm4 0h-2V7h2v10zm4 0h-2v-4h2v4z\"/>\n",
              "    </g>\n",
              "</svg>\n",
              "  </button>\n",
              "\n",
              "<style>\n",
              "  .colab-df-quickchart {\n",
              "    background-color: #E8F0FE;\n",
              "    border: none;\n",
              "    border-radius: 50%;\n",
              "    cursor: pointer;\n",
              "    display: none;\n",
              "    fill: #1967D2;\n",
              "    height: 32px;\n",
              "    padding: 0 0 0 0;\n",
              "    width: 32px;\n",
              "  }\n",
              "\n",
              "  .colab-df-quickchart:hover {\n",
              "    background-color: #E2EBFA;\n",
              "    box-shadow: 0px 1px 2px rgba(60, 64, 67, 0.3), 0px 1px 3px 1px rgba(60, 64, 67, 0.15);\n",
              "    fill: #174EA6;\n",
              "  }\n",
              "\n",
              "  [theme=dark] .colab-df-quickchart {\n",
              "    background-color: #3B4455;\n",
              "    fill: #D2E3FC;\n",
              "  }\n",
              "\n",
              "  [theme=dark] .colab-df-quickchart:hover {\n",
              "    background-color: #434B5C;\n",
              "    box-shadow: 0px 1px 3px 1px rgba(0, 0, 0, 0.15);\n",
              "    filter: drop-shadow(0px 1px 2px rgba(0, 0, 0, 0.3));\n",
              "    fill: #FFFFFF;\n",
              "  }\n",
              "</style>\n",
              "\n",
              "  <script>\n",
              "    async function quickchart(key) {\n",
              "      const charts = await google.colab.kernel.invokeFunction(\n",
              "          'suggestCharts', [key], {});\n",
              "    }\n",
              "    (() => {\n",
              "      let quickchartButtonEl =\n",
              "        document.querySelector('#df-76873c3a-3e49-4fff-9cf2-a03cc4648997 button');\n",
              "      quickchartButtonEl.style.display =\n",
              "        google.colab.kernel.accessAllowed ? 'block' : 'none';\n",
              "    })();\n",
              "  </script>\n",
              "</div>\n",
              "    </div>\n",
              "  </div>\n"
            ]
          },
          "metadata": {},
          "execution_count": 26
        }
      ]
    },
    {
      "cell_type": "code",
      "source": [],
      "metadata": {
        "id": "sp8ZjFgO4yY0"
      },
      "execution_count": null,
      "outputs": []
    }
  ]
}